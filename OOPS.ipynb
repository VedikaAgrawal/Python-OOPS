{
 "cells": [
  {
   "cell_type": "markdown",
   "id": "49a967f2-59f5-44e9-9e83-bb4977082b27",
   "metadata": {},
   "source": [
    "# OOPS"
   ]
  },
  {
   "cell_type": "markdown",
   "id": "6bf311c1-75de-4b84-8c02-0cca3549bd5e",
   "metadata": {},
   "source": [
    "## Theory questions"
   ]
  },
  {
   "cell_type": "markdown",
   "id": "1920157a-5782-4738-b5e8-92a177798138",
   "metadata": {},
   "source": [
    "1. What is Object-Oriented Programming (OOP)?\n",
    "   - OOP is a way to write programs using objects that contain both data (variables) and actions (methods). It helps organize code better."
   ]
  },
  {
   "cell_type": "markdown",
   "id": "7e74ff53-06ee-498e-b2a8-0905ed0c1de8",
   "metadata": {},
   "source": [
    "2. What is a class in OOP?\n",
    "   - A class is a blueprint to create objects. It defines the structure and behavior."
   ]
  },
  {
   "cell_type": "markdown",
   "id": "27a4235b-c33f-4ba3-9844-9730860dd0e4",
   "metadata": {},
   "source": [
    "3. What is an object in OOP?\n",
    "   - An object is a real-world instance of a class. It holds actual values and can perform actions defined in the class."
   ]
  },
  {
   "cell_type": "markdown",
   "id": "db876ff4-de63-4f91-a704-275449361ff9",
   "metadata": {},
   "source": [
    "4. Difference between abstraction and encapsulation:\n",
    "   - Abstraction hides what is happening inside (like using a TV without knowing its inner working).\n",
    "   - Encapsulation hides the data (like protecting variables using private access)."
   ]
  },
  {
   "cell_type": "markdown",
   "id": "95ec90e2-c943-4bde-a559-ece8cdfbe5f2",
   "metadata": {},
   "source": [
    "5. What are dunder methods in Python?\n",
    "   - These are special methods with double underscores, like __init__, __str__. They're used to define behaviors of objects."
   ]
  },
  {
   "cell_type": "markdown",
   "id": "ec86a187-bb3c-4a05-9eda-f7bebcc727e2",
   "metadata": {},
   "source": [
    "6. Concept of inheritance in OOP:\n",
    "   - Inheritance lets a class use features (methods/variables) of another class. For example, a Dog class can inherit from Animal class."
   ]
  },
  {
   "cell_type": "markdown",
   "id": "8486b77a-f8c9-4806-91df-fe0bafc3fbbe",
   "metadata": {},
   "source": [
    "7. What is polymorphism in OOP?\n",
    "   -Polymorphism means using the same method name in different ways. For example, fly() can act differently for Sparrow and Penguin."
   ]
  },
  {
   "cell_type": "markdown",
   "id": "b72eaf75-6056-4400-b336-01adaf586470",
   "metadata": {},
   "source": [
    "8. How is encapsulation achieved in Python?\n",
    "   - By using private variables (__balance) and getter/setter methods to control access."
   ]
  },
  {
   "cell_type": "markdown",
   "id": "2a279592-c60d-48f2-aa85-eced78aff861",
   "metadata": {},
   "source": [
    "9. What is a constructor in Python?\n",
    "    - It's a method called __init__() that runs automatically when an object is created."
   ]
  },
  {
   "cell_type": "markdown",
   "id": "d7396c08-a0b5-4c7d-ae5b-7ca11fc65156",
   "metadata": {},
   "source": [
    "10. Class and static methods in Python:\n",
    "    - Class method: Uses @classmethod, works with class not object.\n",
    "    - Static method: Uses @staticmethod, doesn’t depend on class or object."
   ]
  },
  {
   "cell_type": "markdown",
   "id": "8d689482-1963-4823-98fd-0442a9081646",
   "metadata": {},
   "source": [
    "11. What is method overloading in Python?\n",
    "    - Python doesn’t support it directly, but you can use default values or *args to mimic it."
   ]
  },
  {
   "cell_type": "markdown",
   "id": "b343ebe9-be4e-4a9d-998a-24782d7937f6",
   "metadata": {},
   "source": [
    "12. What is method overriding in OOP?\n",
    "    - When a child class changes the behavior of a method from the parent class."
   ]
  },
  {
   "cell_type": "markdown",
   "id": "b22d0df4-4963-48ed-96d3-f282510edce5",
   "metadata": {},
   "source": [
    "13. What is a property decorator in Python?\n",
    "    - It lets you use a method like a variable using @property."
   ]
  },
  {
   "cell_type": "markdown",
   "id": "49f0e156-e909-4ccd-bbe3-0db7f7fc870f",
   "metadata": {},
   "source": [
    "14. Why is polymorphism important in OOP?\n",
    "    - It allows different classes to use the same method name, making code flexible and reusable."
   ]
  },
  {
   "cell_type": "markdown",
   "id": "4ec68bf1-52a8-4145-b7be-d0b833fcabaa",
   "metadata": {},
   "source": [
    "15. What is an abstract class in Python?\n",
    "    - A class that can't be used to make objects and has at least one method that must be implemented by child classes (@abstractmethod)."
   ]
  },
  {
   "cell_type": "markdown",
   "id": "29ab8375-8bbd-47ce-8922-2ffa58aadbf7",
   "metadata": {},
   "source": [
    "16. Advantages of OOP:\n",
    "    - Reusability\n",
    "    - Better code structure\n",
    "    - Easier to maintain\n",
    "    - Real-world modeling"
   ]
  },
  {
   "cell_type": "markdown",
   "id": "b9f72bd6-029d-40ec-adc0-1187a833b94e",
   "metadata": {},
   "source": [
    "17. Class variable vs Instance variable:\n",
    "    - Class variable: Shared by all objects.\n",
    "    - Instance variable: Unique for each object."
   ]
  },
  {
   "cell_type": "markdown",
   "id": "1cfb7bbe-626e-411c-89eb-e7fd2c26e2a2",
   "metadata": {},
   "source": [
    "18. What is multiple inheritance in Python?\n",
    "    - When a class inherits from more than one class."
   ]
  },
  {
   "cell_type": "markdown",
   "id": "8c809a1e-d26f-4316-8024-3d84f904c972",
   "metadata": {},
   "source": [
    "19. Purpose of __str__ and __repr__:\n",
    "    - __str__: User-friendly string output.\n",
    "    - __repr__: Developer-friendly string output."
   ]
  },
  {
   "cell_type": "markdown",
   "id": "7d92dae2-424a-44a9-a3b8-c10b6262d3c6",
   "metadata": {},
   "source": [
    "20. Significance of super() function:\n",
    "    - It calls the parent class methods or constructor."
   ]
  },
  {
   "cell_type": "markdown",
   "id": "e19276c2-8193-4021-85dc-7eb86454240e",
   "metadata": {},
   "source": [
    "21. Significance of __del__ method:\n",
    "    - Called when an object is destroyed. Used for cleanup tasks."
   ]
  },
  {
   "cell_type": "markdown",
   "id": "057882dd-99d6-4dfa-b0cc-b689f9b2fa0d",
   "metadata": {},
   "source": [
    "22. Difference between @staticmethod and @classmethod:\n",
    "    - @staticmethod: No access to class or instance.\n",
    "    - @classmethod: Access to the class using cls."
   ]
  },
  {
   "cell_type": "markdown",
   "id": "e14c9fef-9fba-40c6-8320-7618fa885913",
   "metadata": {},
   "source": [
    "23. How polymorphism works in Python with inheritance:\n",
    "    - Child classes override methods from parent class and behave differently using the same method name."
   ]
  },
  {
   "cell_type": "markdown",
   "id": "99d812ba-a6ab-40ef-9bed-1f9371763248",
   "metadata": {},
   "source": [
    "24. What is method chaining in Python OOP?\n",
    "    - Calling multiple methods in one line using object (e.g., obj.setA().setB())."
   ]
  },
  {
   "cell_type": "markdown",
   "id": "00d1de9f-8000-462a-a323-f66241b7fcf8",
   "metadata": {},
   "source": [
    "25. Purpose of __call__ method in Python?\n",
    "    - Lets an object behave like a function when called."
   ]
  },
  {
   "cell_type": "markdown",
   "id": "3a90561c-7cb3-4901-9d73-6b9f7309dbba",
   "metadata": {},
   "source": [
    "## Practical Questions"
   ]
  },
  {
   "cell_type": "code",
   "execution_count": 79,
   "id": "0ec61b7b-927b-415d-b403-afc3758ba587",
   "metadata": {},
   "outputs": [
    {
     "name": "stdout",
     "output_type": "stream",
     "text": [
      "Generic animal sound\n",
      "Bark!\n"
     ]
    }
   ],
   "source": [
    "# 1. Create a parent class Animal with a method speak() that prints a generic message. Create a child class Dog that overrides the speak() \n",
    "# method to print \"Bark!\".\n",
    "class Animal:\n",
    "    def speak(self):\n",
    "        print(\"Generic animal sound\")\n",
    "\n",
    "class Dog(Animal):\n",
    "    def speak(self):\n",
    "        print(\"Bark!\")\n",
    "\n",
    "# Example\n",
    "animal = Animal()\n",
    "animal.speak()\n",
    "dog = Dog()\n",
    "dog.speak()"
   ]
  },
  {
   "cell_type": "code",
   "execution_count": 81,
   "id": "42d9f821-f7d0-475a-9951-4d46ca5f0bdf",
   "metadata": {},
   "outputs": [
    {
     "name": "stdout",
     "output_type": "stream",
     "text": [
      "78.5\n",
      "24\n"
     ]
    }
   ],
   "source": [
    "# 2. Write a program to create an abstract class Shape with a method area(). Derive classes Circle and Rectangle from it and implement\n",
    "# the area() method in both.\n",
    "from abc import ABC, abstractmethod\n",
    "class Shape(ABC):\n",
    "    @abstractmethod\n",
    "    def area(self):\n",
    "        pass\n",
    "\n",
    "class Circle(Shape):\n",
    "    def __init__(self, radius):\n",
    "        self.radius = radius\n",
    "    def area(self):\n",
    "        return 3.14 * self.radius ** 2\n",
    "\n",
    "class Rectangle(Shape):\n",
    "    def __init__(self, length, width):\n",
    "        self.length = length\n",
    "        self.width = width\n",
    "    def area(self):\n",
    "        return self.length * self.width\n",
    "\n",
    "# Example\n",
    "c = Circle(5)\n",
    "r = Rectangle(4, 6)\n",
    "print(c.area())\n",
    "print(r.area())"
   ]
  },
  {
   "cell_type": "code",
   "execution_count": 83,
   "id": "ea312b2c-3560-4e14-a7b8-f0ce8dd2e1e1",
   "metadata": {},
   "outputs": [
    {
     "name": "stdout",
     "output_type": "stream",
     "text": [
      "Electric Tesla 100kWh\n"
     ]
    }
   ],
   "source": [
    "# 3. Implement a multi-level inheritance scenario where a class Vehicle has an attribute type. Derive a class Car and further derive\n",
    "# a class ElectricCar that adds a battery attribute.\n",
    "class Vehicle:\n",
    "    def __init__(self, type):\n",
    "        self.type = type\n",
    "\n",
    "class Car(Vehicle):\n",
    "    def __init__(self, type, brand):\n",
    "        super().__init__(type)\n",
    "        self.brand = brand\n",
    "\n",
    "class ElectricCar(Car):\n",
    "    def __init__(self, type, brand, battery):\n",
    "        super().__init__(type, brand)\n",
    "        self.battery = battery\n",
    "\n",
    "# Example\n",
    "e_car = ElectricCar(\"Electric\", \"Tesla\", \"100kWh\")\n",
    "print(e_car.type, e_car.brand, e_car.battery)"
   ]
  },
  {
   "cell_type": "code",
   "execution_count": 85,
   "id": "dad872ba-3172-4b3a-a74f-e3b22f79afc7",
   "metadata": {},
   "outputs": [
    {
     "name": "stdout",
     "output_type": "stream",
     "text": [
      "Sparrow flies high\n",
      "Penguins cannot fly\n"
     ]
    }
   ],
   "source": [
    "# 4. Demonstrate polymorphism by creating a base class Bird with a method fly(). Create two derived classes Sparrow and Penguin that \n",
    "# override the fly() method.\n",
    "class Bird:\n",
    "    def fly(self):\n",
    "        print(\"Some birds can fly\")\n",
    "\n",
    "class Sparrow(Bird):\n",
    "    def fly(self):\n",
    "        print(\"Sparrow flies high\")\n",
    "\n",
    "class Penguin(Bird):\n",
    "    def fly(self):\n",
    "        print(\"Penguins cannot fly\")\n",
    "\n",
    "# Example\n",
    "birds = [Sparrow(), Penguin()]\n",
    "for bird in birds:\n",
    "    bird.fly()"
   ]
  },
  {
   "cell_type": "code",
   "execution_count": 87,
   "id": "5592fed9-da02-4a79-955d-bdf123a4e06c",
   "metadata": {},
   "outputs": [
    {
     "name": "stdout",
     "output_type": "stream",
     "text": [
      "300\n"
     ]
    }
   ],
   "source": [
    "# 5. Write a program to demonstrate encapsulation by creating a class BankAccount with private attributes balance and methods to deposit(), \n",
    "# withdraw(), and check_balance().\n",
    "class BankAccount:\n",
    "    def __init__(self):\n",
    "        self.__balance = 0\n",
    "\n",
    "    def deposit(self, amount):\n",
    "        self.__balance += amount\n",
    "\n",
    "    def withdraw(self, amount):\n",
    "        if amount <= self.__balance:\n",
    "            self.__balance -= amount\n",
    "\n",
    "    def check_balance(self):\n",
    "        return self.__balance\n",
    "\n",
    "# Example\n",
    "acc = BankAccount()\n",
    "acc.deposit(500)\n",
    "acc.withdraw(200)\n",
    "print(acc.check_balance())"
   ]
  },
  {
   "cell_type": "code",
   "execution_count": 89,
   "id": "6838767e-9344-4f46-8158-1d8589fec8a3",
   "metadata": {},
   "outputs": [
    {
     "name": "stdout",
     "output_type": "stream",
     "text": [
      "Strumming the guitar\n",
      "Playing the piano\n"
     ]
    }
   ],
   "source": [
    "# 6. Demonstrate runtime polymorphism using a method play() in a base class Instrument. Derive classes Guitar and Piano that implement \n",
    "# their own version of play().\n",
    "class Instrument:\n",
    "    def play(self):\n",
    "        print(\"Playing instrument\")\n",
    "\n",
    "class Guitar(Instrument):\n",
    "    def play(self):\n",
    "        print(\"Strumming the guitar\")\n",
    "\n",
    "class Piano(Instrument):\n",
    "    def play(self):\n",
    "        print(\"Playing the piano\")\n",
    "\n",
    "# Example\n",
    "for i in [Guitar(), Piano()]:\n",
    "    i.play()"
   ]
  },
  {
   "cell_type": "code",
   "execution_count": 91,
   "id": "bd41099a-c052-4a0f-bbfc-6b16f131127b",
   "metadata": {},
   "outputs": [
    {
     "name": "stdout",
     "output_type": "stream",
     "text": [
      "8\n",
      "6\n"
     ]
    }
   ],
   "source": [
    "# 7. Create a class MathOperations with a class method add_numbers() to add two numbers and a static method subtract_numbers() to subtract \n",
    "# two numbers.\n",
    "class MathOperations:\n",
    "    @classmethod\n",
    "    def add_numbers(cls, a, b):\n",
    "        return a + b\n",
    "\n",
    "    @staticmethod\n",
    "    def subtract_numbers(a, b):\n",
    "        return a - b\n",
    "\n",
    "# Example\n",
    "print(MathOperations.add_numbers(5, 3))\n",
    "print(MathOperations.subtract_numbers(10, 4))"
   ]
  },
  {
   "cell_type": "code",
   "execution_count": 93,
   "id": "f6292b84-6040-4dc9-8b07-d042f08139ee",
   "metadata": {},
   "outputs": [
    {
     "name": "stdout",
     "output_type": "stream",
     "text": [
      "2\n"
     ]
    }
   ],
   "source": [
    "# 8. Implement a class Person with a class method to count the total number of persons created.\n",
    "class Person:\n",
    "    count = 0\n",
    "    def __init__(self):\n",
    "        Person.count += 1\n",
    "\n",
    "# Example\n",
    "p1 = Person()\n",
    "p2 = Person()\n",
    "print(Person.count)"
   ]
  },
  {
   "cell_type": "code",
   "execution_count": 95,
   "id": "990f88fa-bcc9-463d-bafe-68f5f03b8396",
   "metadata": {},
   "outputs": [
    {
     "name": "stdout",
     "output_type": "stream",
     "text": [
      "3/4\n"
     ]
    }
   ],
   "source": [
    "# 9. Write a class Fraction with attributes numerator and denominator. Override the __str__ method to display the fraction as \n",
    "# \"numerator/denominator\".\n",
    "class Fraction:\n",
    "    def __init__(self, numerator, denominator):\n",
    "        self.numerator = numerator\n",
    "        self.denominator = denominator\n",
    "\n",
    "    def __str__(self):\n",
    "        return f\"{self.numerator}/{self.denominator}\"\n",
    "\n",
    "# Example\n",
    "f = Fraction(3, 4)\n",
    "print(f)"
   ]
  },
  {
   "cell_type": "code",
   "execution_count": 97,
   "id": "0a560aa1-7062-489f-b7ab-46e06cc083a3",
   "metadata": {},
   "outputs": [
    {
     "name": "stdout",
     "output_type": "stream",
     "text": [
      "(4, 6)\n"
     ]
    }
   ],
   "source": [
    "# 10. Demonstrate operator overloading by creating a class Vector and overriding the + method to add two vectors.\n",
    "class Vector:\n",
    "    def __init__(self, x, y):\n",
    "        self.x = x\n",
    "        self.y = y\n",
    "\n",
    "    def __add__(self, other):\n",
    "        return Vector(self.x + other.x, self.y + other.y)\n",
    "\n",
    "    def __str__(self):\n",
    "        return f\"({self.x}, {self.y})\"\n",
    "\n",
    "# Example\n",
    "v1 = Vector(1, 2)\n",
    "v2 = Vector(3, 4)\n",
    "print(v1 + v2)"
   ]
  },
  {
   "cell_type": "code",
   "execution_count": 99,
   "id": "2ed79890-e3ac-4f0b-897e-ba1ff5446557",
   "metadata": {},
   "outputs": [
    {
     "name": "stdout",
     "output_type": "stream",
     "text": [
      "Hello, my name is Vedika and I am 24 years old.\n"
     ]
    }
   ],
   "source": [
    "# 11. Create a class Person with attributes name and age. Add a method greet() that prints \"Hello, my name is {name} and I am {age} \n",
    "# years old.\"\n",
    "class Person:\n",
    "    def __init__(self, name, age):\n",
    "        self.name = name\n",
    "        self.age = age\n",
    "\n",
    "    def greet(self):\n",
    "        print(f\"Hello, my name is {self.name} and I am {self.age} years old.\")\n",
    "\n",
    "# Example\n",
    "p = Person(\"Vedika\", 24)\n",
    "p.greet()"
   ]
  },
  {
   "cell_type": "code",
   "execution_count": 101,
   "id": "ebd3766f-5bbe-41af-83ad-9646e5cca3db",
   "metadata": {},
   "outputs": [
    {
     "name": "stdout",
     "output_type": "stream",
     "text": [
      "85.0\n"
     ]
    }
   ],
   "source": [
    "# 12. Implement a class Student with attributes name and grades. Create a method average_grade() to compute the average of the grades. \n",
    "class Student:\n",
    "    def __init__(self, name, grades):\n",
    "        self.name = name\n",
    "        self.grades = grades\n",
    "\n",
    "    def average_grade(self):\n",
    "        return sum(self.grades) / len(self.grades)\n",
    "\n",
    "# Example\n",
    "s = Student(\"Ritik\", [80, 90, 85])\n",
    "print(s.average_grade())"
   ]
  },
  {
   "cell_type": "code",
   "execution_count": 103,
   "id": "f256edcf-2214-4554-94db-68070e9da4ad",
   "metadata": {},
   "outputs": [
    {
     "name": "stdout",
     "output_type": "stream",
     "text": [
      "12\n"
     ]
    }
   ],
   "source": [
    "# 13. Create a class Rectangle with methods set_dimensions() to set the dimensions and area() to calculate the area.\n",
    "class Rectangle:\n",
    "    def set_dimensions(self, length, width):\n",
    "        self.length = length\n",
    "        self.width = width\n",
    "\n",
    "    def area(self):\n",
    "        return self.length * self.width\n",
    "\n",
    "# Example\n",
    "r = Rectangle()\n",
    "r.set_dimensions(3, 4)\n",
    "print(r.area())"
   ]
  },
  {
   "cell_type": "code",
   "execution_count": 105,
   "id": "593472e1-a88a-47f3-acb4-e521608c2edd",
   "metadata": {},
   "outputs": [
    {
     "name": "stdout",
     "output_type": "stream",
     "text": [
      "800\n",
      "1300\n"
     ]
    }
   ],
   "source": [
    "# 14. Create a class Employee with a method calculate_salary() that computes the salary based on hours worked and hourly rate. \n",
    "# Create a derived class Manager that adds a bonus to the salary.\n",
    "class Employee:\n",
    "    def calculate_salary(self, hours, rate):\n",
    "        return hours * rate\n",
    "\n",
    "class Manager(Employee):\n",
    "    def calculate_salary(self, hours, rate, bonus):\n",
    "        return super().calculate_salary(hours, rate) + bonus\n",
    "\n",
    "# Example\n",
    "e = Employee()\n",
    "m = Manager()\n",
    "print(e.calculate_salary(40, 20))\n",
    "print(m.calculate_salary(40, 20, 500))"
   ]
  },
  {
   "cell_type": "code",
   "execution_count": 107,
   "id": "10538495-e09b-413f-a282-7eae750d396d",
   "metadata": {},
   "outputs": [
    {
     "name": "stdout",
     "output_type": "stream",
     "text": [
      "50\n"
     ]
    }
   ],
   "source": [
    "# 15. Create a class Product with attributes name, price, and quantity. Implement a method total_price() that calculates the total \n",
    "# price of the product.\n",
    "class Product:\n",
    "    def __init__(self, name, price, quantity):\n",
    "        self.name = name\n",
    "        self.price = price\n",
    "        self.quantity = quantity\n",
    "\n",
    "    def total_price(self):\n",
    "        return self.price * self.quantity\n",
    "\n",
    "# Example\n",
    "p = Product(\"Pen\", 10, 5)\n",
    "print(p.total_price())"
   ]
  },
  {
   "cell_type": "code",
   "execution_count": 109,
   "id": "4ec47f02-02ed-4a9b-ae46-6855cd94e137",
   "metadata": {},
   "outputs": [
    {
     "name": "stdout",
     "output_type": "stream",
     "text": [
      "Moo\n",
      "Baa\n"
     ]
    }
   ],
   "source": [
    "# 16. Create a class Animal with an abstract method sound(). Create two derived classes Cow and Sheep that implement the sound() method.\n",
    "class Animal(ABC):\n",
    "    @abstractmethod\n",
    "    def sound(self):\n",
    "        pass\n",
    "\n",
    "class Cow(Animal):\n",
    "    def sound(self):\n",
    "        return \"Moo\"\n",
    "\n",
    "class Sheep(Animal):\n",
    "    def sound(self):\n",
    "        return \"Baa\"\n",
    "\n",
    "# Example\n",
    "c = Cow()\n",
    "s = Sheep()\n",
    "print(c.sound())\n",
    "print(s.sound())"
   ]
  },
  {
   "cell_type": "code",
   "execution_count": 111,
   "id": "3cbfeefb-e5bd-487d-9b2c-2329a7f08bb8",
   "metadata": {},
   "outputs": [
    {
     "name": "stdout",
     "output_type": "stream",
     "text": [
      "Python 101 by Mike, published in 2020\n"
     ]
    }
   ],
   "source": [
    "# 17. Create a class Book with attributes title, author, and year_published. Add a method get_book_info() that returns a formatted \n",
    "# string with the book's details.\n",
    "class Book:\n",
    "    def __init__(self, title, author, year_published):\n",
    "        self.title = title\n",
    "        self.author = author\n",
    "        self.year_published = year_published\n",
    "\n",
    "    def get_book_info(self):\n",
    "        return f\"{self.title} by {self.author}, published in {self.year_published}\"\n",
    "\n",
    "# Example\n",
    "book = Book(\"Python 101\", \"Mike\", 2020)\n",
    "print(book.get_book_info())"
   ]
  },
  {
   "cell_type": "code",
   "execution_count": 113,
   "id": "f6bfdc5f-98b6-4151-845b-f1668c576bac",
   "metadata": {},
   "outputs": [
    {
     "name": "stdout",
     "output_type": "stream",
     "text": [
      "123 Lane 1000000 10\n"
     ]
    }
   ],
   "source": [
    "# 18. Create a class House with attributes address and price. Create a derived class Mansion that adds an attribute number_of_rooms.\n",
    "class House:\n",
    "    def __init__(self, address, price):\n",
    "        self.address = address\n",
    "        self.price = price\n",
    "\n",
    "class Mansion(House):\n",
    "    def __init__(self, address, price, number_of_rooms):\n",
    "        super().__init__(address, price)\n",
    "        self.number_of_rooms = number_of_rooms\n",
    "\n",
    "# Example\n",
    "m = Mansion(\"123 Lane\", 1000000, 10)\n",
    "print(m.address, m.price, m.number_of_rooms)"
   ]
  },
  {
   "cell_type": "code",
   "execution_count": null,
   "id": "366f2ea6-490b-4bcf-be59-049a93b00609",
   "metadata": {},
   "outputs": [],
   "source": []
  }
 ],
 "metadata": {
  "kernelspec": {
   "display_name": "Python 3 (ipykernel)",
   "language": "python",
   "name": "python3"
  },
  "language_info": {
   "codemirror_mode": {
    "name": "ipython",
    "version": 3
   },
   "file_extension": ".py",
   "mimetype": "text/x-python",
   "name": "python",
   "nbconvert_exporter": "python",
   "pygments_lexer": "ipython3",
   "version": "3.12.2"
  }
 },
 "nbformat": 4,
 "nbformat_minor": 5
}
